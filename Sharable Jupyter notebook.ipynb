{
 "cells": [
  {
   "cell_type": "markdown",
   "id": "2a38207b-a1dc-42d8-b221-9cdadf06b16d",
   "metadata": {},
   "source": [
    "# My Jupyter Notebook On IBM Watson Studio "
   ]
  },
  {
   "cell_type": "markdown",
   "id": "77b28fad-b257-488b-96a1-9fe6301ee8e7",
   "metadata": {},
   "source": [
    "## **SAFDER SHAKIL**\n",
    "####  SENIOR BLOCKCHAIN DEVELOPER"
   ]
  },
  {
   "cell_type": "markdown",
   "id": "02d68838-f512-4330-a7d7-3cfd88a86e7a",
   "metadata": {},
   "source": [
    "*I want to study Data Science because it is applicable to every almost every field.\n",
    "This can a great tool to study blockchain technology and bring revolution in financial world.*"
   ]
  },
  {
   "cell_type": "markdown",
   "id": "8f97185f-d431-424c-b828-58bef10f16dd",
   "metadata": {},
   "source": [
    "### The code below calculates the sum of first 2 prime numbers."
   ]
  },
  {
   "cell_type": "code",
   "execution_count": 21,
   "id": "919cfc57-df74-42ae-93e5-fae0058b03ad",
   "metadata": {},
   "outputs": [
    {
     "name": "stdout",
     "output_type": "stream",
     "text": [
      "5\n"
     ]
    }
   ],
   "source": [
    "a=2\n",
    "b=3\n",
    "c= a+b\n",
    "print (c)\n",
    "    "
   ]
  },
  {
   "cell_type": "markdown",
   "id": "3fdf3d0d-f95d-4fdd-bc76-6706493f6ef5",
   "metadata": {},
   "source": [
    "1. First make a plan what you want to study\n",
    "2. Stick to it.\n",
    "3. Follow a schedule.\n",
    "   * If encountered with difficulty follow rule 2.\n",
    "4. Use the Internet to make concepts clear.\n",
    "\n",
    " 5.[Click here to go to google](https://www.google.com)\n",
    "\n",
    " 6.~~NEVER LOSE FOCUS~~\n",
    "\n"
   ]
  },
  {
   "cell_type": "code",
   "execution_count": null,
   "id": "4a8761c0-f3f3-4921-8f5d-cb2303c6470c",
   "metadata": {},
   "outputs": [],
   "source": []
  }
 ],
 "metadata": {
  "kernelspec": {
   "display_name": "Python",
   "language": "python",
   "name": "conda-env-python-py"
  },
  "language_info": {
   "codemirror_mode": {
    "name": "ipython",
    "version": 3
   },
   "file_extension": ".py",
   "mimetype": "text/x-python",
   "name": "python",
   "nbconvert_exporter": "python",
   "pygments_lexer": "ipython3",
   "version": "3.7.12"
  }
 },
 "nbformat": 4,
 "nbformat_minor": 5
}
